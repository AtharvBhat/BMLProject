{
 "cells": [
  {
   "cell_type": "markdown",
   "id": "faa328dd",
   "metadata": {},
   "source": [
    "Imports"
   ]
  },
  {
   "cell_type": "code",
   "execution_count": null,
   "id": "aa4eacff",
   "metadata": {},
   "outputs": [],
   "source": [
    "import torch\n",
    "import torch.nn.functional as F\n",
    "from torch.utils.data import DataLoader\n",
    "import numpy as np\n",
    "import torchvision\n",
    "from torchvision import transforms\n",
    "import diffusers\n",
    "from diffusers import DDPMScheduler\n",
    "from diffusers.optimization import get_cosine_schedule_with_warmup\n",
    "import sys\n",
    "from PIL import Image\n",
    "sys.path.append(\"../\")\n",
    "\n",
    "import utils\n"
   ]
  },
  {
   "cell_type": "markdown",
   "id": "02d13523",
   "metadata": {},
   "source": [
    "Training Config"
   ]
  },
  {
   "cell_type": "code",
   "execution_count": 1,
   "id": "ecd0b65c",
   "metadata": {},
   "outputs": [],
   "source": [
    "from dataclasses import dataclass\n",
    "\n",
    "@dataclass\n",
    "class TrainingConfig:\n",
    "    run_name = \"DDPM-FFHQ-TEST\"\n",
    "    num_train_timestamps = 1000\n",
    "    dataset = \"FFHQ\" # \"CIFAR10\" / \"FFHQ\"\n",
    "    image_size = 32  # the generated image resolution\n",
    "    train_batch_size = 6\n",
    "    eval_batch_size = 6  # how many images to sample during evaluation\n",
    "    num_epochs = 50\n",
    "    gradient_accumulation_steps = 1\n",
    "    learning_rate = 1e-4\n",
    "    lr_warmup_steps = 500\n",
    "    save_image_epochs = 1\n",
    "    save_model_epochs = 1\n",
    "    mixed_precision = 'fp16'  # `no` for float32, `fp16` for automatic mixed precision\n",
    "    output_dir = 'ddpm-ffhq-128'  # the model namy locally and on the HF Hub\n",
    "    overwrite_output_dir = True  # overwrite the old model when re-running the notebook\n",
    "    seed = 0\n",
    "    down_dropout = 0.0\n",
    "    mid_dropout = 0.0\n",
    "    up_dropout = 0.0\n",
    "    bayesian_avg_samples = 1\n",
    "    bayesian_avg_range = (0, 1000)\n",
    "\n",
    "config = TrainingConfig()"
   ]
  },
  {
   "cell_type": "markdown",
   "id": "4e400062",
   "metadata": {},
   "source": [
    "Create Dataloader"
   ]
  },
  {
   "cell_type": "code",
   "execution_count": null,
   "id": "595b09f8",
   "metadata": {},
   "outputs": [],
   "source": [
    "#transforms\n",
    "image_transforms = transforms.Compose(\n",
    "    [\n",
    "        transforms.RandomHorizontalFlip(),\n",
    "        transforms.ToTensor(),\n",
    "        transforms.Normalize([0.5], [0.5]),\n",
    "    ]\n",
    ")\n",
    "\n",
    "if config.dataset == \"FFHQ\":\n",
    "    # FFHQ dataset\n",
    "    dataset = utils.ffhq_Dataset(\"../dataset/ffhq/thumbnails128x128/\", image_transforms)\n",
    "    config.image_size = 128\n",
    "elif config.dataset == \"CIFAR10\":\n",
    "    #cifar dataset\n",
    "    dataset = torchvision.datasets.CIFAR10(root= \"../dataset/\", download=True, image_transform=transforms)\n",
    "    config.image_size = 32\n",
    "else:\n",
    "    raise ValueError(\"Invalid Dataset supplied\")\n",
    "\n",
    "train_loader = DataLoader(dataset, batch_size=config.train_batch_size, shuffle=True, num_workers=4, pin_memory=True)"
   ]
  },
  {
   "cell_type": "markdown",
   "id": "09ce835e",
   "metadata": {},
   "source": [
    "Setup for Training"
   ]
  },
  {
   "cell_type": "code",
   "execution_count": null,
   "id": "34b70f0d",
   "metadata": {},
   "outputs": [],
   "source": [
    "model = utils.get_default_unet(config)\n",
    "optimizer = torch.optim.AdamW(model.parameters(), lr=config.learning_rate)\n",
    "\n",
    "lr_scheduler = get_cosine_schedule_with_warmup(\n",
    "    optimizer=optimizer,\n",
    "    num_warmup_steps=config.lr_warmup_steps,\n",
    "    num_training_steps=(len(train_loader) * config.num_epochs),\n",
    ")\n",
    "noise_scheduler = DDPMScheduler(num_train_timesteps=config.num_train_timestamps)\n",
    "\n",
    "#load pretrained\n",
    "# pipeline = diffusers.DDPMPipeline(model, noise_scheduler).from_pretrained(\"ddpm-ffhq-128\")\n",
    "# model = pipeline.unet"
   ]
  },
  {
   "cell_type": "markdown",
   "id": "62a3eed7",
   "metadata": {},
   "source": [
    "Start Training"
   ]
  },
  {
   "cell_type": "code",
   "execution_count": 5,
   "id": "9adc7fc9",
   "metadata": {},
   "outputs": [],
   "source": [
    "from accelerate import notebook_launcher\n",
    "args = (config, model, noise_scheduler, optimizer, train_loader, lr_scheduler)\n",
    "\n",
    "notebook_launcher(utils.ddpm_train_loop, args, num_processes=torch.cuda.device_count())"
   ]
  },
  {
   "cell_type": "markdown",
   "id": "bc2c2456",
   "metadata": {},
   "source": [
    "Visualize Outputs"
   ]
  },
  {
   "cell_type": "code",
   "execution_count": null,
   "id": "dd054439",
   "metadata": {},
   "outputs": [],
   "source": [
    "import glob\n",
    "\n",
    "sample_images = sorted(glob.glob(f\"{config.output_dir}/samples/*.png\"))\n",
    "Image.open(sample_images[-1])"
   ]
  }
 ],
 "metadata": {
  "kernelspec": {
   "display_name": "Python 3 (ipykernel)",
   "language": "python",
   "name": "python3"
  },
  "language_info": {
   "codemirror_mode": {
    "name": "ipython",
    "version": 3
   },
   "file_extension": ".py",
   "mimetype": "text/x-python",
   "name": "python",
   "nbconvert_exporter": "python",
   "pygments_lexer": "ipython3",
   "version": "3.9.6"
  },
  "vscode": {
   "interpreter": {
    "hash": "f762e758e950d8286b27917e3ff32b7af65c5a18eb24aefa6d6e53a4c15e0b30"
   }
  }
 },
 "nbformat": 4,
 "nbformat_minor": 5
}
