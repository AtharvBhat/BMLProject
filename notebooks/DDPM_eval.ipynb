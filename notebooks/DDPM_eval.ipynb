{
 "cells": [
  {
   "cell_type": "code",
   "execution_count": 5,
   "id": "a99af31f",
   "metadata": {},
   "outputs": [],
   "source": [
    "import diffusers\n",
    "import torch\n",
    "import sys\n",
    "sys.path.append(\"../\")\n",
    "from DDPMPipelineDropout import DDPMPipeline\n",
    "\n",
    "import utils"
   ]
  },
  {
   "cell_type": "code",
   "execution_count": 6,
   "id": "b9e94a36",
   "metadata": {},
   "outputs": [
    {
     "name": "stdout",
     "output_type": "stream",
     "text": [
      "Loading failed, Trying to Load data parallel mode\n"
     ]
    }
   ],
   "source": [
    "model_path = \"ddpm-ffhq-128/DDPM-FFHQ-TEST_v1_nodp.pth\"\n",
    "experiment_name = \"10D-10S-ne\"\n",
    "model, config = utils.load_model(model_path)\n",
    "scheduler = diffusers.DDPMScheduler(num_train_timesteps=config.num_train_timestamps)\n",
    "pipeline = DDPMPipeline(unet=model, scheduler=scheduler).to(\"cuda\")"
   ]
  },
  {
   "cell_type": "code",
   "execution_count": null,
   "id": "47061444",
   "metadata": {},
   "outputs": [],
   "source": [
    "#Set Eval params here\n",
    "config.bayesian_avg_range = (0, 1000)\n",
    "config.bayesian_avg_samples = 1\n",
    "config.__dict__"
   ]
  },
  {
   "cell_type": "code",
   "execution_count": null,
   "id": "37d6fb97",
   "metadata": {},
   "outputs": [],
   "source": [
    "fid_score, inception_score = utils.calculate_metrics(config, pipeline, batch_size=1, num_images=2)"
   ]
  },
  {
   "cell_type": "code",
   "execution_count": null,
   "id": "9dff68a3",
   "metadata": {},
   "outputs": [],
   "source": [
    "try :\n",
    "    results = torch.load(\"../results.dict\")\n",
    "except:\n",
    "    results = {}\n",
    "\n",
    "if config.run_name in results:\n",
    "    results[config.run_name][\"fid_score\"] = fid_score.item()\n",
    "    results[config.run_name][\"path\"] = model_path\n",
    "    results[config.run_name][\"inception_score_mean\"] = inception_score[0].item()\n",
    "    results[config.run_name][\"inception_score_std\"] = inception_score[1].item()\n",
    "    results[config.run_name][\"config\"] = config.__dict__\n",
    "else:\n",
    "    results[config.run_name] = {}\n",
    "    results[config.run_name][\"fid_score\"] = fid_score.item()\n",
    "    results[config.run_name][\"path\"] = model_path\n",
    "    results[config.run_name][\"inception_score_mean\"] = inception_score[0].item()\n",
    "    results[config.run_name][\"inception_score_std\"] = inception_score[1].item()\n",
    "    results[config.run_name][\"config\"] = config.__dict__\n",
    "\n",
    "torch.save(results, \"../results.dict\")"
   ]
  },
  {
   "cell_type": "code",
   "execution_count": null,
   "id": "0a3167e1",
   "metadata": {},
   "outputs": [],
   "source": [
    "config.eval_batch_size = 4\n",
    "utils.ddpm_evaluate(config, 0, pipeline)"
   ]
  },
  {
   "cell_type": "code",
   "execution_count": 7,
   "id": "d087ac38",
   "metadata": {},
   "outputs": [
    {
     "data": {
      "text/plain": [
       "'DDPM-FFHQ-TEST_v1_nodp'"
      ]
     },
     "execution_count": 7,
     "metadata": {},
     "output_type": "execute_result"
    }
   ],
   "source": [
    "config.run_name"
   ]
  },
  {
   "cell_type": "code",
   "execution_count": null,
   "id": "9214da0b",
   "metadata": {},
   "outputs": [],
   "source": []
  }
 ],
 "metadata": {
  "kernelspec": {
   "display_name": "Python 3.9.6 ('pytorch')",
   "language": "python",
   "name": "python3"
  },
  "language_info": {
   "codemirror_mode": {
    "name": "ipython",
    "version": 3
   },
   "file_extension": ".py",
   "mimetype": "text/x-python",
   "name": "python",
   "nbconvert_exporter": "python",
   "pygments_lexer": "ipython3",
   "version": "3.9.6"
  },
  "vscode": {
   "interpreter": {
    "hash": "f762e758e950d8286b27917e3ff32b7af65c5a18eb24aefa6d6e53a4c15e0b30"
   }
  }
 },
 "nbformat": 4,
 "nbformat_minor": 5
}
