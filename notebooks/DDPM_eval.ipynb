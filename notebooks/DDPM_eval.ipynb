{
 "cells": [
  {
   "cell_type": "code",
   "execution_count": 1,
   "id": "a99af31f",
   "metadata": {},
   "outputs": [],
   "source": [
    "import diffusers\n",
    "import torch\n",
    "import torch.nn as nn\n",
    "import sys\n",
    "sys.path.append(\"../\")\n",
    "\n",
    "from dataclasses import dataclass\n",
    "import dataclasses\n",
    "from torchvision import transforms\n",
    "from DDPMPipelineDropout import DDPMPipeline\n",
    "\n",
    "import utils"
   ]
  },
  {
   "cell_type": "code",
   "execution_count": 2,
   "id": "b9e94a36",
   "metadata": {},
   "outputs": [],
   "source": [
    "model, config = utils.load_model(\"ddpm-ffhq-128/unet/DDPM-FFHQ-10-PERCENT-DROPOUT-DOWN-MID-UP-10-SAMPLES-epoch-0.pth\")\n",
    "config.bayesian_avg_samples = 1\n",
    "scheduler = diffusers.DDPMScheduler(num_train_timesteps=config.num_train_timestamps)\n",
    "pipeline = DDPMPipeline(unet=model, scheduler=scheduler).to(\"cuda\")"
   ]
  },
  {
   "cell_type": "code",
   "execution_count": 3,
   "id": "37d6fb97",
   "metadata": {},
   "outputs": [
    {
     "name": "stderr",
     "output_type": "stream",
     "text": [
      "c:\\Users\\bhata\\anaconda3\\envs\\pytorch\\lib\\site-packages\\torchmetrics\\utilities\\prints.py:36: UserWarning: Metric `FrechetInceptionDistance` will save all extracted features in buffer. For large datasets this may lead to large memory footprint.\n",
      "  warnings.warn(*args, **kwargs)\n",
      "c:\\Users\\bhata\\anaconda3\\envs\\pytorch\\lib\\site-packages\\torchmetrics\\utilities\\prints.py:36: UserWarning: Metric `InceptionScore` will save all extracted features in buffer. For large datasets this may lead to large memory footprint.\n",
      "  warnings.warn(*args, **kwargs)\n",
      "4it [11:18, 169.66s/it]"
     ]
    },
    {
     "name": "stdout",
     "output_type": "stream",
     "text": [
      "Image Limit reached breaking\n"
     ]
    },
    {
     "name": "stderr",
     "output_type": "stream",
     "text": [
      "\n"
     ]
    }
   ],
   "source": [
    "fid_score, inception_score = utils.calculate_metrics(config, pipeline, batch_size=1, num_images=4)"
   ]
  },
  {
   "cell_type": "code",
   "execution_count": 4,
   "id": "631ed9a9",
   "metadata": {},
   "outputs": [
    {
     "data": {
      "text/plain": [
       "tensor(408.0741)"
      ]
     },
     "execution_count": 4,
     "metadata": {},
     "output_type": "execute_result"
    }
   ],
   "source": [
    "fid_score"
   ]
  },
  {
   "cell_type": "code",
   "execution_count": 5,
   "id": "d438d0ff",
   "metadata": {},
   "outputs": [
    {
     "data": {
      "text/plain": [
       "(tensor(1.), tensor(5.9605e-08))"
      ]
     },
     "execution_count": 5,
     "metadata": {},
     "output_type": "execute_result"
    }
   ],
   "source": [
    "inception_score"
   ]
  }
 ],
 "metadata": {
  "kernelspec": {
   "display_name": "Python 3.9.6 ('pytorch')",
   "language": "python",
   "name": "python3"
  },
  "language_info": {
   "codemirror_mode": {
    "name": "ipython",
    "version": 3
   },
   "file_extension": ".py",
   "mimetype": "text/x-python",
   "name": "python",
   "nbconvert_exporter": "python",
   "pygments_lexer": "ipython3",
   "version": "3.9.6"
  },
  "vscode": {
   "interpreter": {
    "hash": "f762e758e950d8286b27917e3ff32b7af65c5a18eb24aefa6d6e53a4c15e0b30"
   }
  }
 },
 "nbformat": 4,
 "nbformat_minor": 5
}
