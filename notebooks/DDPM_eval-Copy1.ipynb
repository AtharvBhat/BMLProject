{
 "cells": [
  {
   "cell_type": "code",
   "execution_count": 110,
   "id": "a99af31f",
   "metadata": {
    "scrolled": true
   },
   "outputs": [],
   "source": [
    "import diffusers\n",
    "import torch\n",
    "import sys\n",
    "sys.path.append(\"../\")\n",
    "from DDPMPipelineDropout import DDPMPipeline\n",
    "\n",
    "import utils"
   ]
  },
  {
   "cell_type": "code",
   "execution_count": 6,
   "id": "b9e94a36",
   "metadata": {},
   "outputs": [
    {
     "name": "stdout",
     "output_type": "stream",
     "text": [
      "Loading failed, Trying to Load data parallel mode\n"
     ]
    }
   ],
   "source": [
    "model_path = \"ddpm-ffhq-128/DDPM-FFHQ-TEST_v1_nodp.pth\"\n",
    "experiment_name = \"10D-10S-ne\"\n",
    "model, config = utils.load_model(model_path)\n",
    "scheduler = diffusers.DDPMScheduler(num_train_timesteps=config.num_train_timestamps)\n",
    "pipeline = DDPMPipeline(unet=model, scheduler=scheduler).to(\"cuda\")"
   ]
  },
  {
   "cell_type": "code",
   "execution_count": null,
   "id": "0a54663e",
   "metadata": {},
   "outputs": [],
   "source": [
    "# vit model\n",
    "class NeighBERT(nn.Module):\n",
    "    def __init__(self, size, features_dim, out_size, pretrained=False, freeze_pos_embed=False, **kwargs):\n",
    "        super(vit_model, self).__init__()\n",
    "        \n",
    "        if freeze_pos_embed:\n",
    "            pass\n",
    "        else:\n",
    "            if size==\"base\":\n",
    "                model_kwargs = dict(\n",
    "                    patch_size=16, embed_dim=768, depth=12, num_heads=12, num_classes=0, **kwargs\n",
    "                )\n",
    "                self.backbone = _create_vision_transformer(\"vit_base_patch16_224\", pretrained=pretrained, **model_kwargs)\n",
    "            else:\n",
    "                pass\n",
    "\n",
    "        self.classifier = nn.Sequential(\n",
    "            nn.Linear(features_dim, out_size),\n",
    "            nn.Sigmoid()\n",
    "        )\n",
    "        \n",
    "    def forward(self, x):\n",
    "        x = self.backbone(x)\n",
    "        x = self.classifier(x)\n",
    "        return x"
   ]
  },
  {
   "cell_type": "code",
   "execution_count": null,
   "id": "5a26fc77",
   "metadata": {},
   "outputs": [],
   "source": [
    "def load_model(load_path, model):\n",
    "    load_path = load_path\n",
    "    checkpoint = torch.load(load_path)\n",
    "    state_dict = {k.replace(\"img_backbone.\", \"module.\"): v for k, v in checkpoint['state_dict'].items()}\n",
    "    model_state = model.load_state_dict(state_dict, strict=False)\n",
    "    print(model_state)"
   ]
  },
  {
   "cell_type": "code",
   "execution_count": null,
   "id": "47061444",
   "metadata": {},
   "outputs": [],
   "source": [
    "#Set Eval params here\n",
    "config.bayesian_avg_range = (0, 1000)\n",
    "config.bayesian_avg_samples = 1\n",
    "config.__dict__"
   ]
  },
  {
   "cell_type": "code",
   "execution_count": null,
   "id": "37d6fb97",
   "metadata": {},
   "outputs": [],
   "source": [
    "fid_score, inception_score = utils.calculate_metrics(config, pipeline, batch_size=1, num_images=2)"
   ]
  },
  {
   "cell_type": "code",
   "execution_count": null,
   "id": "9dff68a3",
   "metadata": {},
   "outputs": [],
   "source": [
    "try :\n",
    "    results = torch.load(\"../results.dict\")\n",
    "except:\n",
    "    results = {}\n",
    "\n",
    "if experiment_name in results:\n",
    "    results[experiment_name][\"fid_score\"] = fid_score.item()\n",
    "    results[experiment_name][\"path\"] = model_path\n",
    "    results[experiment_name][\"inception_score_mean\"] = inception_score[0].item()\n",
    "    results[experiment_name][\"inception_score_std\"] = inception_score[1].item()\n",
    "    results[experiment_name][\"config\"] = config.__dict__\n",
    "else:\n",
    "    results[experiment_name] = {}\n",
    "    results[experiment_name][\"fid_score\"] = fid_score.item()\n",
    "    results[experiment_name][\"path\"] = model_path\n",
    "    results[experiment_name][\"inception_score_mean\"] = inception_score[0].item()\n",
    "    results[experiment_name][\"inception_score_std\"] = inception_score[1].item()\n",
    "    results[experiment_name][\"config\"] = config.__dict__\n",
    "\n",
    "torch.save(results, \"../results.dict\")"
   ]
  },
  {
   "cell_type": "code",
   "execution_count": null,
   "id": "0a3167e1",
   "metadata": {},
   "outputs": [],
   "source": [
    "config.eval_batch_size = 4\n",
    "utils.ddpm_evaluate(config, 0, pipeline)"
   ]
  },
  {
   "cell_type": "code",
   "execution_count": 7,
   "id": "d087ac38",
   "metadata": {},
   "outputs": [
    {
     "data": {
      "text/plain": [
       "'DDPM-FFHQ-TEST_v1_nodp'"
      ]
     },
     "execution_count": 7,
     "metadata": {},
     "output_type": "execute_result"
    }
   ],
   "source": [
    "config.run_name"
   ]
  },
  {
   "cell_type": "markdown",
   "id": "b0e35f65",
   "metadata": {},
   "source": [
    "# DDIM"
   ]
  },
  {
   "cell_type": "code",
   "execution_count": 100,
   "id": "9214da0b",
   "metadata": {},
   "outputs": [],
   "source": [
    "results = torch.load(\"../results_ddim_lsun.dict\")"
   ]
  },
  {
   "cell_type": "code",
   "execution_count": 101,
   "id": "ace62301",
   "metadata": {},
   "outputs": [
    {
     "data": {
      "text/plain": [
       "dict_keys(['LSUN_0.2dp_0-1000', 'lsun_0.05dp_0-1000', 'LSUN_0.1dp_0-250', 'LSUN_0.05dp_0-250', 'LSUN_0.05dp_0-1000', 'LSUN_0.2dp_0-250', 'LSUN_0.1dp_0-1000', 'LSUN_0.05dp_0-500', 'LSUN_0.2dp_0-500', 'LSUN_0.1dp_0-500', 'LSUN_0.2dp_0-250_s20', 'LSUN_0.05dp_0-250_s20', 'LSUN_0.05dp_0-750', 'LSUN_0.1dp_0-250_s20', 'LSUN_0.1dp_0-750', 'LSUN_0.2dp_0-750', 'LSUN_0.1dp_0-1000_s1', 'LSUN_0.05dp_0-1000_s1', 'LSUN_nodp_0-1000_s1', 'LSUN_0.2dp_0-1000_s1'])"
      ]
     },
     "execution_count": 101,
     "metadata": {},
     "output_type": "execute_result"
    }
   ],
   "source": [
    "results.keys()"
   ]
  },
  {
   "cell_type": "code",
   "execution_count": 109,
   "id": "84b895e4",
   "metadata": {},
   "outputs": [
    {
     "data": {
      "text/plain": [
       "{'fid_score': 24.682498931884766,\n",
       " 'path': '/gpfs/data/denizlab/Users/hh2740/bml_atharv/BMLProject/ddim-lsun-32_0.05dp/DDIM-LSUN-TEST_v1_0.05dp.pth',\n",
       " 'inception_score_mean': 2.311143159866333,\n",
       " 'inception_score_std': 0.14349831640720367,\n",
       " 'config': {'run_name': 'DDIM-LSUN-TEST_v1_0.05dp',\n",
       "  'num_inference_steps': 100,\n",
       "  'dataset': 'LSUN_CHURCH',\n",
       "  'image_size': 64,\n",
       "  'train_batch_size': 32,\n",
       "  'eval_batch_size': 16,\n",
       "  'num_epochs': 500,\n",
       "  'gradient_accumulation_steps': 1,\n",
       "  'learning_rate': 0.0002,\n",
       "  'lr_warmup_steps': 500,\n",
       "  'save_image_epochs': 10,\n",
       "  'save_model_epochs': 10,\n",
       "  'mixed_precision': 'fp16',\n",
       "  'output_dir': 'ddim-lsun-32_0.05dp',\n",
       "  'overwrite_output_dir': True,\n",
       "  'seed': 0,\n",
       "  'down_dropout': 0.05,\n",
       "  'mid_dropout': 0.05,\n",
       "  'up_dropout': 0.05,\n",
       "  'bayesian_avg_samples': 20,\n",
       "  'bayesian_avg_range': (0, 250)}}"
      ]
     },
     "execution_count": 109,
     "metadata": {},
     "output_type": "execute_result"
    }
   ],
   "source": [
    "results['LSUN_0.05dp_0-250_s20']"
   ]
  },
  {
   "cell_type": "code",
   "execution_count": 40,
   "id": "46882de2",
   "metadata": {},
   "outputs": [],
   "source": [
    "std_1 = results[\"LSUN_0.05dp_0-1000\"][\"diffusion_std\"]\n",
    "std_2 = results[\"LSUN_0.1dp_0-1000\"][\"diffusion_std\"]\n",
    "std_3 = results[\"LSUN_0.2dp_0-1000\"][\"diffusion_std\"]"
   ]
  },
  {
   "cell_type": "code",
   "execution_count": 41,
   "id": "2110cea4",
   "metadata": {
    "scrolled": true
   },
   "outputs": [],
   "source": [
    "#results['LSUN_0.1dp_0-1000']"
   ]
  },
  {
   "cell_type": "code",
   "execution_count": 42,
   "id": "e63c2505",
   "metadata": {},
   "outputs": [
    {
     "data": {
      "text/plain": [
       "dict_keys(['LSUN_0.2dp_0-1000', 'lsun_0.05dp_0-1000', 'LSUN_0.1dp_0-250', 'LSUN_0.05dp_0-250', 'LSUN_0.05dp_0-1000', 'LSUN_0.2dp_0-250', 'LSUN_0.1dp_0-1000'])"
      ]
     },
     "execution_count": 42,
     "metadata": {},
     "output_type": "execute_result"
    }
   ],
   "source": [
    "results.keys()"
   ]
  },
  {
   "cell_type": "code",
   "execution_count": 43,
   "id": "07581c78",
   "metadata": {},
   "outputs": [],
   "source": [
    "x = list(range(0, 100))"
   ]
  },
  {
   "cell_type": "code",
   "execution_count": 44,
   "id": "e49cc12a",
   "metadata": {
    "scrolled": true
   },
   "outputs": [],
   "source": [
    "reversed_list = list()\n",
    "\n",
    "for item in x:\n",
    "    reversed_list = [item] + reversed_list"
   ]
  },
  {
   "cell_type": "code",
   "execution_count": 45,
   "id": "c5e80eee",
   "metadata": {},
   "outputs": [],
   "source": [
    "import matplotlib.pyplot as plt\n",
    "from matplotlib.pyplot import figure"
   ]
  },
  {
   "cell_type": "code",
   "execution_count": 46,
   "id": "44e80f4d",
   "metadata": {},
   "outputs": [],
   "source": [
    "#std_1 = list(std_1).reverse()"
   ]
  },
  {
   "cell_type": "code",
   "execution_count": 49,
   "id": "5d298ef4",
   "metadata": {},
   "outputs": [],
   "source": [
    "#x = np.arange(0, 100, 1)"
   ]
  },
  {
   "cell_type": "code",
   "execution_count": 48,
   "id": "1aae27f2",
   "metadata": {
    "scrolled": true
   },
   "outputs": [
    {
     "data": {
      "image/png": "[encoded data removed]",
      "text/plain": [
       "<Figure size 1080x360 with 1 Axes>"
      ]
     },
     "metadata": {
      "needs_background": "light"
     },
     "output_type": "display_data"
    }
   ],
   "source": [
    "# plot lines\n",
    "figure(figsize=(15, 5))\n",
    "plt.plot(reversed_list, std_1, label = \"Dropout prob 5%\")\n",
    "plt.plot(reversed_list, std_2, label = \"Dropout prob 10%\")\n",
    "plt.plot(reversed_list, std_3, label = \"Dropout prob 20%\")\n",
    "plt.gca().invert_xaxis()\n",
    "plt.title(label = \"Standard Deviation At Different Diffusion Steps On LSUN-Church (DDIM)\")\n",
    "plt.xlabel(\"Diffusion Time Step\")\n",
    "plt.ylabel(\"Standard Deviation of Noise Predictions\")\n",
    "plt.legend()\n",
    "plt.show()"
   ]
  },
  {
   "cell_type": "markdown",
   "id": "fd95c385",
   "metadata": {},
   "source": [
    "# DDPM"
   ]
  },
  {
   "cell_type": "code",
   "execution_count": 111,
   "id": "7320d434",
   "metadata": {},
   "outputs": [],
   "source": [
    "import torch"
   ]
  },
  {
   "cell_type": "code",
   "execution_count": 112,
   "id": "85076190",
   "metadata": {},
   "outputs": [],
   "source": [
    "results = torch.load(\"../results_ddpm_lsun.dict\")"
   ]
  },
  {
   "cell_type": "code",
   "execution_count": 113,
   "id": "f8b4511f",
   "metadata": {},
   "outputs": [
    {
     "data": {
      "text/plain": [
       "dict_keys(['LSUN_nodp_0-1000', 'lsun_0.05dp_0-1000', 'LSUN_0.2dp_0-250', 'LSUN_0.1dp_0-250', 'LSUN_0.05dp_0-250', 'LSUN_0.2dp_0-1000', 'LSUN_0.1dp_0-1000', 'LSUN_0.05dp_0-500', 'LSUN_0.1dp_0-500', 'LSUN_0.1dp_0-250_s20', 'LSUN_0.05dp_0-250_s20', 'LSUN_0.2dp_0-500', 'LSUN_0.1dp_0-750', 'LSUN_0.2dp_0-250_s20', 'LSUN_0.1dp_0-1000_s1', 'LSUN_0.2dp_0-1000_s1', 'LSUN_0.2dp_0-750', 'LSUN_0.05dp_0-750', 'LSUN_0.05dp_0-1000_s1', 'LSUN_0.1dp_0-250_s5'])"
      ]
     },
     "execution_count": 113,
     "metadata": {},
     "output_type": "execute_result"
    }
   ],
   "source": [
    "results.keys()"
   ]
  },
  {
   "cell_type": "code",
   "execution_count": 114,
   "id": "2bf2e3cf",
   "metadata": {},
   "outputs": [
    {
     "ename": "KeyError",
     "evalue": "'LSUN_0.2dp_0-250_s5'",
     "output_type": "error",
     "traceback": [
      "\u001b[0;31m---------------------------------------------------------------------------\u001b[0m",
      "\u001b[0;31mKeyError\u001b[0m                                  Traceback (most recent call last)",
      "Input \u001b[0;32mIn [114]\u001b[0m, in \u001b[0;36m<cell line: 1>\u001b[0;34m()\u001b[0m\n\u001b[0;32m----> 1\u001b[0m \u001b[43mresults\u001b[49m\u001b[43m[\u001b[49m\u001b[38;5;124;43m\"\u001b[39;49m\u001b[38;5;124;43mLSUN_0.2dp_0-250_s5\u001b[39;49m\u001b[38;5;124;43m\"\u001b[39;49m\u001b[43m]\u001b[49m\n",
      "\u001b[0;31mKeyError\u001b[0m: 'LSUN_0.2dp_0-250_s5'"
     ]
    }
   ],
   "source": [
    "results[\"LSUN_0.2dp_0-250_s5\"]"
   ]
  },
  {
   "cell_type": "code",
   "execution_count": 26,
   "id": "7f99bc5b",
   "metadata": {},
   "outputs": [],
   "source": [
    "std_1 = results[\"lsun_0.05dp_0-1000\"][\"diffusion_std\"]\n",
    "std_2 = results[\"LSUN_0.1dp_0-1000\"][\"diffusion_std\"]\n",
    "std_3 = results[\"LSUN_0.2dp_0-1000\"][\"diffusion_std\"]"
   ]
  },
  {
   "cell_type": "code",
   "execution_count": 27,
   "id": "f89420ae",
   "metadata": {
    "scrolled": true
   },
   "outputs": [],
   "source": [
    "#results['LSUN_0.1dp_0-1000']"
   ]
  },
  {
   "cell_type": "code",
   "execution_count": 28,
   "id": "27bba4c2",
   "metadata": {},
   "outputs": [
    {
     "data": {
      "text/plain": [
       "dict_keys(['LSUN_nodp_0-1000', 'lsun_0.05dp_0-1000', 'LSUN_0.2dp_0-250', 'LSUN_0.1dp_0-250', 'LSUN_0.05dp_0-250', 'LSUN_0.2dp_0-1000', 'LSUN_0.1dp_0-1000'])"
      ]
     },
     "execution_count": 28,
     "metadata": {},
     "output_type": "execute_result"
    }
   ],
   "source": [
    "results.keys()"
   ]
  },
  {
   "cell_type": "code",
   "execution_count": 29,
   "id": "b171e167",
   "metadata": {},
   "outputs": [],
   "source": [
    "x = list(range(0, 1000))"
   ]
  },
  {
   "cell_type": "code",
   "execution_count": 30,
   "id": "a33594a3",
   "metadata": {
    "scrolled": true
   },
   "outputs": [],
   "source": [
    "reversed_list = list()\n",
    "\n",
    "for item in x:\n",
    "    reversed_list = [item] + reversed_list"
   ]
  },
  {
   "cell_type": "code",
   "execution_count": 31,
   "id": "477d0248",
   "metadata": {},
   "outputs": [],
   "source": [
    "import matplotlib.pyplot as plt\n",
    "from matplotlib.pyplot import figure"
   ]
  },
  {
   "cell_type": "code",
   "execution_count": 32,
   "id": "8bd90238",
   "metadata": {},
   "outputs": [],
   "source": [
    "#std_1 = list(std_1).reverse()"
   ]
  },
  {
   "cell_type": "code",
   "execution_count": 35,
   "id": "dbba7e91",
   "metadata": {
    "scrolled": true
   },
   "outputs": [
    {
     "data": {
      "image/png": "[encoded data removed]",
      "text/plain": [
       "<Figure size 1080x360 with 1 Axes>"
      ]
     },
     "metadata": {
      "needs_background": "light"
     },
     "output_type": "display_data"
    }
   ],
   "source": [
    "# plot lines\n",
    "figure(figsize=(15, 5))\n",
    "plt.plot(reversed_list, std_1, label = \"Dropout prob 5%\")\n",
    "plt.plot(reversed_list, std_2, label = \"Dropout prob 10%\")\n",
    "plt.plot(reversed_list, std_3, label = \"Dropout prob 20%\")\n",
    "plt.gca().invert_xaxis()\n",
    "plt.title(label = \"Standard Deviation At Different Diffusion Steps On LSUN-Church (DDPM)\")\n",
    "plt.xlabel(\"Diffusion Time Step\")\n",
    "plt.ylabel(\"Standard Deviation of Noise Predictions\")\n",
    "plt.legend()\n",
    "plt.show()"
   ]
  },
  {
   "cell_type": "code",
   "execution_count": null,
   "id": "cb7fe249",
   "metadata": {},
   "outputs": [],
   "source": []
  }
 ],
 "metadata": {
  "kernelspec": {
   "display_name": "Python 3 (ipykernel)",
   "language": "python",
   "name": "python3"
  },
  "language_info": {
   "codemirror_mode": {
    "name": "ipython",
    "version": 3
   },
   "file_extension": ".py",
   "mimetype": "text/x-python",
   "name": "python",
   "nbconvert_exporter": "python",
   "pygments_lexer": "ipython3",
   "version": "3.8.12"
  },
  "vscode": {
   "interpreter": {
    "hash": "f762e758e950d8286b27917e3ff32b7af65c5a18eb24aefa6d6e53a4c15e0b30"
   }
  }
 },
 "nbformat": 4,
 "nbformat_minor": 5
}
